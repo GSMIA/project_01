{
  "nbformat": 4,
  "nbformat_minor": 0,
  "metadata": {
    "colab": {
      "provenance": [],
      "toc_visible": true,
      "authorship_tag": "ABX9TyN2nCtmj/qk7JL2m2MlXsaN",
      "include_colab_link": true
    },
    "kernelspec": {
      "name": "python3",
      "display_name": "Python 3"
    },
    "language_info": {
      "name": "python"
    }
  },
  "cells": [
    {
      "cell_type": "markdown",
      "metadata": {
        "id": "view-in-github",
        "colab_type": "text"
      },
      "source": [
        "<a href=\"https://colab.research.google.com/github/GSMIA/project_01/blob/main/task_sql_two_ways.ipynb\" target=\"_parent\"><img src=\"https://colab.research.google.com/assets/colab-badge.svg\" alt=\"Open In Colab\"/></a>"
      ]
    },
    {
      "cell_type": "code",
      "source": [
        "# Самостоятельная работа №1\n",
        "import sqlite3\n",
        "connection = sqlite3.connect('teatchers.db')\n",
        "cursor = connection.cursor()\n",
        "query = \"\"\"INSERT INTO Students (Student_Id, Student_Name, School_Id)\n",
        "VALUES\n",
        "('201', 'Иван', 1),\n",
        "('202', 'Петр', 2),\n",
        "('203', 'Анастасия', 3),\n",
        "('204', 'Игорь', 4);\n",
        "\"\"\"\n",
        "cursor.execute(query)\n",
        "connection.commit()\n",
        "connection.close()\n"
      ],
      "metadata": {
        "id": "ep4TS1n65fg1"
      },
      "execution_count": 25,
      "outputs": []
    },
    {
      "cell_type": "code",
      "source": [
        "# Написать программу, с помощью которой по ID студента можно получать информацию\n",
        "# о школе и студенте.\n",
        "# ➢ Формат вывода:\n",
        "# • ID студента:\n",
        "# • Имя студента:\n",
        "# • ID школы:\n",
        "# • Название школы:\n",
        "\n",
        "import sqlite3\n",
        "def get_connection():\n",
        "  connection = sqlite3.connect(\"teatchers.db\")\n",
        "  return connection\n",
        "def close_connection(connection):\n",
        "  if connection:\n",
        "    connection.close()\n",
        "def get_school_name(school_id):\n",
        "  try:\n",
        "    connection = get_connection()\n",
        "    cursor = connection.cursor()\n",
        "    select_query = \"\"\"SELECT * FROM School WHERE School_Id = ?\"\"\"\n",
        "    cursor.execute(select_query,(school_id,))\n",
        "    record = cursor.fetchone()\n",
        "    close_connection(connection)\n",
        "    return record[1]\n",
        "  except (Exception, sqlite3.Error) as error:\n",
        "    print(\"Ошибка в получении данных\", error)\n",
        "\n",
        "def get_student(student_id):\n",
        "  try:\n",
        "    connection = get_connection()\n",
        "    cursor = connection.cursor()\n",
        "    sql_select_query = \"\"\"SELECT * FROM Students WHERE Student_Id = ?\"\"\"\n",
        "    cursor.execute(sql_select_query, (student_id,))\n",
        "    record = cursor.fetchall()\n",
        "    school_id = record[0][2]\n",
        "    school_name = get_school_name(school_id)\n",
        "    print(\"Студент школы\", school_name)\n",
        "    for row in record:\n",
        "      print(\"ID Студента: \", row[0])\n",
        "      print(\"Имя Студента: \", row[1])\n",
        "      print(\"ID школы: \", row[2])\n",
        "      print(\"Название школы: \", school_name)\n",
        "  except (Exception, sqlite3.Error) as error:\n",
        "    print(\"Ошибка в получении данных\", error)\n",
        "print (\"Самостоятельная работа №1. Написать программу, с помощью которой по ID студента можно получать информацию о школе и студенте \\n\")\n",
        "get_student(201)\n"
      ],
      "metadata": {
        "colab": {
          "base_uri": "https://localhost:8080/"
        },
        "id": "ArI45TTgDCAw",
        "outputId": "bb309c92-b49e-4717-ffee-e1f532d7aa16"
      },
      "execution_count": 56,
      "outputs": [
        {
          "output_type": "stream",
          "name": "stdout",
          "text": [
            "Самостоятельная работа №1. Написать программу, с помощью которой по ID студента можно получать информацию о школе и студенте \n",
            "\n",
            "Студент школы Протон\n",
            "ID Студента:  201\n",
            "Имя Студента:  Иван\n",
            "ID школы:  1\n",
            "Название школы:  Протон\n"
          ]
        }
      ]
    },
    {
      "cell_type": "code",
      "source": [
        "import sqlite3\n",
        "def get_connection():\n",
        "  connection = sqlite3.connect(\"teatchers.db\")\n",
        "  return connection\n",
        "def close_connection(connection):\n",
        "  if connection:\n",
        "    connection.close()\n",
        "def get_student(student_id):\n",
        "  try:\n",
        "    connection = get_connection()\n",
        "    cursor = connection.cursor()\n",
        "    select_query = \"\"\"SELECT Students.Student_ID, \n",
        "    Students.Student_Name, \n",
        "    Students.School_ID, \n",
        "    School.School_Name  \n",
        "    FROM Students \n",
        "    JOIN School\n",
        "    ON Students.School_ID=School.School_ID\n",
        "    WHERE Student_Id = ?\n",
        "    \"\"\"\n",
        "    cursor.execute(select_query, (student_id,))\n",
        "    record = cursor.fetchall()\n",
        "    for row in record:\n",
        "      print(\"ID Студента: \", row[0])\n",
        "      print(\"Имя Студента: \", row[1])\n",
        "      print(\"ID школы: \", row[2])\n",
        "      print(\"Название школы: \", row[3])\n",
        "  except (Exception, sqlite3.Error) as error:\n",
        "    print(\"Ошибка в получении данных\", error)\n",
        "print (\"Самостоятельная работа №1. Написать программу, с помощью которой по ID студента можно получать информацию о школе и студенте \\n\")\n",
        "get_student(201)\n"
      ],
      "metadata": {
        "colab": {
          "base_uri": "https://localhost:8080/"
        },
        "id": "BF8IGIIJKxNL",
        "outputId": "bbc71ed6-1742-4b4f-9fec-4993308ec08b"
      },
      "execution_count": 55,
      "outputs": [
        {
          "output_type": "stream",
          "name": "stdout",
          "text": [
            "Самостоятельная работа №1. Написать программу, с помощью которой по ID студента можно получать информацию о школе и студенте \n",
            "\n",
            "ID Студента:  201\n",
            "Имя Студента:  Иван\n",
            "ID школы:  1\n",
            "Название школы:  Протон\n"
          ]
        }
      ]
    }
  ]
}
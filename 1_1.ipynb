{
  "nbformat": 4,
  "nbformat_minor": 0,
  "metadata": {
    "colab": {
      "provenance": [],
      "authorship_tag": "ABX9TyO7/DQt9l3Ql0Henxdb3nr+",
      "include_colab_link": true
    },
    "kernelspec": {
      "name": "python3",
      "display_name": "Python 3"
    },
    "language_info": {
      "name": "python"
    }
  },
  "cells": [
    {
      "cell_type": "markdown",
      "metadata": {
        "id": "view-in-github",
        "colab_type": "text"
      },
      "source": [
        "<a href=\"https://colab.research.google.com/github/GSMIA/project_01/blob/main/1_1.ipynb\" target=\"_parent\"><img src=\"https://colab.research.google.com/assets/colab-badge.svg\" alt=\"Open In Colab\"/></a>"
      ]
    },
    {
      "cell_type": "markdown",
      "source": [
        "##**Задача 1.1.**\n",
        "Есть строка с перечислением песен\n",
        "\n",
        "my_favorite_songs = 'Waste a Moment, Staying\\' Alive, A Sorta Fairytale, Start Me Up, New Salvation'\n",
        "\n",
        "Выведите на консоль с помощью индексации строки, последовательно: первый трек, последний, второй, второй с конца\n",
        "### Нельзя переопределять my_favorite_songs и запятая не должна выводиться."
      ],
      "metadata": {
        "id": "HjAYPWEzIMeB"
      }
    },
    {
      "cell_type": "code",
      "execution_count": null,
      "metadata": {
        "colab": {
          "base_uri": "https://localhost:8080/"
        },
        "id": "6OGzF1KqIE3d",
        "outputId": "b072a299-5702-4df4-ab02-5319467aa20e"
      },
      "outputs": [
        {
          "output_type": "stream",
          "name": "stdout",
          "text": [
            "Waste a Moment New Salvation Staying' Alive Start Me Up\n"
          ]
        }
      ],
      "source": [
        "my_favorite_songs = \"Waste a Moment, Staying' Alive, A Sorta Fairytale, Start Me Up, New Salvation\"\n",
        "splitted_line = my_favorite_songs.split(', ')\n",
        "print(splitted_line[0],  splitted_line[-1],  splitted_line[1],  splitted_line[-2])"
      ]
    }
  ]
}